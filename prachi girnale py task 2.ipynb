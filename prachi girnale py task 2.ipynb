{
 "cells": [
  {
   "cell_type": "markdown",
   "id": "24293a27-dda6-4cce-b270-d767a629afc3",
   "metadata": {},
   "source": [
    "# list\n"
   ]
  },
  {
   "cell_type": "code",
   "execution_count": 4,
   "id": "9ac03627-6b26-48c2-8ebe-26824d6cd4fc",
   "metadata": {},
   "outputs": [],
   "source": [
    "l1 = []\n"
   ]
  },
  {
   "cell_type": "code",
   "execution_count": 6,
   "id": "4d79471d-de51-4671-b380-c6fd4e914f0d",
   "metadata": {},
   "outputs": [
    {
     "data": {
      "text/plain": [
       "[]"
      ]
     },
     "execution_count": 6,
     "metadata": {},
     "output_type": "execute_result"
    }
   ],
   "source": [
    "l1"
   ]
  },
  {
   "cell_type": "code",
   "execution_count": 8,
   "id": "d8e8abf8-5c73-43eb-ad2d-e2562119a003",
   "metadata": {},
   "outputs": [],
   "source": [
    "l2 = [1,2,3,4,5,6]"
   ]
  },
  {
   "cell_type": "code",
   "execution_count": 10,
   "id": "6f25918a-9b3a-4a1a-8e9a-e67a77f56113",
   "metadata": {},
   "outputs": [
    {
     "data": {
      "text/plain": [
       "[1, 2, 3, 4, 5, 6]"
      ]
     },
     "execution_count": 10,
     "metadata": {},
     "output_type": "execute_result"
    }
   ],
   "source": [
    "l2"
   ]
  },
  {
   "cell_type": "code",
   "execution_count": 12,
   "id": "1a2dea67-8f3a-45b4-a789-e1623c446f90",
   "metadata": {},
   "outputs": [],
   "source": [
    "l3 = ['s1','s2','s3']"
   ]
  },
  {
   "cell_type": "code",
   "execution_count": 14,
   "id": "74d61c10-8808-4939-83ac-7f7fd8580d4e",
   "metadata": {},
   "outputs": [
    {
     "data": {
      "text/plain": [
       "['s1', 's2', 's3']"
      ]
     },
     "execution_count": 14,
     "metadata": {},
     "output_type": "execute_result"
    }
   ],
   "source": [
    "l3"
   ]
  },
  {
   "cell_type": "code",
   "execution_count": 16,
   "id": "44b364c3-956e-418b-a259-d62fb088279e",
   "metadata": {},
   "outputs": [],
   "source": [
    "l4 = [1,'s1',2,'s2']"
   ]
  },
  {
   "cell_type": "code",
   "execution_count": 18,
   "id": "146eec05-e898-4609-abf1-a51d8a779993",
   "metadata": {},
   "outputs": [
    {
     "data": {
      "text/plain": [
       "[1, 's1', 2, 's2']"
      ]
     },
     "execution_count": 18,
     "metadata": {},
     "output_type": "execute_result"
    }
   ],
   "source": [
    "l4"
   ]
  },
  {
   "cell_type": "code",
   "execution_count": 20,
   "id": "e43406e2-8acf-4d5d-9ac5-58ceca7903fb",
   "metadata": {},
   "outputs": [],
   "source": [
    "l5 = [ [ 1,2,3,4],[5,6,7,8] ]"
   ]
  },
  {
   "cell_type": "code",
   "execution_count": 22,
   "id": "b1ece4a0-63cb-4c84-8db2-80b039c0b863",
   "metadata": {},
   "outputs": [
    {
     "data": {
      "text/plain": [
       "[[1, 2, 3, 4], [5, 6, 7, 8]]"
      ]
     },
     "execution_count": 22,
     "metadata": {},
     "output_type": "execute_result"
    }
   ],
   "source": [
    "l5"
   ]
  },
  {
   "cell_type": "code",
   "execution_count": 24,
   "id": "bc9f80c7-a02f-436c-806f-9324cd7c68e4",
   "metadata": {},
   "outputs": [
    {
     "data": {
      "text/plain": [
       "[]"
      ]
     },
     "execution_count": 24,
     "metadata": {},
     "output_type": "execute_result"
    }
   ],
   "source": [
    "l1"
   ]
  },
  {
   "cell_type": "code",
   "execution_count": 26,
   "id": "7a3f6d40-afd8-4a57-b04f-3b3526b23ed3",
   "metadata": {},
   "outputs": [
    {
     "ename": "IndexError",
     "evalue": "list index out of range",
     "output_type": "error",
     "traceback": [
      "\u001b[1;31m---------------------------------------------------------------------------\u001b[0m",
      "\u001b[1;31mIndexError\u001b[0m                                Traceback (most recent call last)",
      "Cell \u001b[1;32mIn[26], line 1\u001b[0m\n\u001b[1;32m----> 1\u001b[0m l1[\u001b[38;5;241m0\u001b[39m]\n",
      "\u001b[1;31mIndexError\u001b[0m: list index out of range"
     ]
    }
   ],
   "source": [
    "l1[0]"
   ]
  },
  {
   "cell_type": "code",
   "execution_count": 28,
   "id": "6654186f-f7df-44b5-9d2c-395c7de33a92",
   "metadata": {},
   "outputs": [
    {
     "data": {
      "text/plain": [
       "[1, 2, 3, 4, 5, 6]"
      ]
     },
     "execution_count": 28,
     "metadata": {},
     "output_type": "execute_result"
    }
   ],
   "source": [
    "l2"
   ]
  },
  {
   "cell_type": "code",
   "execution_count": 30,
   "id": "95beddbd-84aa-444a-b085-f650cb2e3349",
   "metadata": {},
   "outputs": [
    {
     "data": {
      "text/plain": [
       "1"
      ]
     },
     "execution_count": 30,
     "metadata": {},
     "output_type": "execute_result"
    }
   ],
   "source": [
    "l2[0]"
   ]
  },
  {
   "cell_type": "code",
   "execution_count": 32,
   "id": "f6c08a6c-ef94-4131-98ac-fbcecb6ada94",
   "metadata": {},
   "outputs": [
    {
     "data": {
      "text/plain": [
       "3"
      ]
     },
     "execution_count": 32,
     "metadata": {},
     "output_type": "execute_result"
    }
   ],
   "source": [
    "l2[2]"
   ]
  },
  {
   "cell_type": "code",
   "execution_count": 34,
   "id": "1554ea45-b611-4116-b76c-db80312c9feb",
   "metadata": {},
   "outputs": [
    {
     "data": {
      "text/plain": [
       "['s1', 's2', 's3']"
      ]
     },
     "execution_count": 34,
     "metadata": {},
     "output_type": "execute_result"
    }
   ],
   "source": [
    "l3"
   ]
  },
  {
   "cell_type": "code",
   "execution_count": 36,
   "id": "df039d0a-ff0c-4aef-b0c2-4698e9256e52",
   "metadata": {},
   "outputs": [
    {
     "data": {
      "text/plain": [
       "'s3'"
      ]
     },
     "execution_count": 36,
     "metadata": {},
     "output_type": "execute_result"
    }
   ],
   "source": [
    "l3[2]"
   ]
  },
  {
   "cell_type": "code",
   "execution_count": 38,
   "id": "1422651d-5e5f-47b0-98f6-b3ad018bbe00",
   "metadata": {},
   "outputs": [
    {
     "data": {
      "text/plain": [
       "'s3'"
      ]
     },
     "execution_count": 38,
     "metadata": {},
     "output_type": "execute_result"
    }
   ],
   "source": [
    "l3[-1]"
   ]
  },
  {
   "cell_type": "code",
   "execution_count": 40,
   "id": "fabf011e-ee04-4826-9707-ed72e3c19af8",
   "metadata": {},
   "outputs": [
    {
     "data": {
      "text/plain": [
       "'s1'"
      ]
     },
     "execution_count": 40,
     "metadata": {},
     "output_type": "execute_result"
    }
   ],
   "source": [
    "l3[-3]\n"
   ]
  },
  {
   "cell_type": "code",
   "execution_count": 42,
   "id": "e7811930-82e4-4c7f-ac76-c21ccb472bad",
   "metadata": {},
   "outputs": [
    {
     "data": {
      "text/plain": [
       "[[1, 2, 3, 4], [5, 6, 7, 8]]"
      ]
     },
     "execution_count": 42,
     "metadata": {},
     "output_type": "execute_result"
    }
   ],
   "source": [
    "l5"
   ]
  },
  {
   "cell_type": "code",
   "execution_count": 44,
   "id": "9341e9dd-27ad-42e4-8163-ca1e164de2cc",
   "metadata": {},
   "outputs": [
    {
     "data": {
      "text/plain": [
       "[1, 2, 3, 4]"
      ]
     },
     "execution_count": 44,
     "metadata": {},
     "output_type": "execute_result"
    }
   ],
   "source": [
    "l5[0]"
   ]
  },
  {
   "cell_type": "code",
   "execution_count": 46,
   "id": "01002db4-7e86-4f5d-a066-c1707d4463e0",
   "metadata": {},
   "outputs": [
    {
     "data": {
      "text/plain": [
       "4"
      ]
     },
     "execution_count": 46,
     "metadata": {},
     "output_type": "execute_result"
    }
   ],
   "source": [
    "l5[0][3]"
   ]
  },
  {
   "cell_type": "code",
   "execution_count": 48,
   "id": "be91db83-61cc-4934-9c7f-de11cc0e2307",
   "metadata": {},
   "outputs": [],
   "source": [
    "l6 = [13,432,43,567,78,872,234,578,90,678,45,87,882,927]"
   ]
  },
  {
   "cell_type": "code",
   "execution_count": 50,
   "id": "9f6c8dfa-b3f5-4b50-94c5-4e8eeafc97e4",
   "metadata": {},
   "outputs": [
    {
     "data": {
      "text/plain": [
       "[13, 432, 43, 567, 78, 872, 234, 578, 90, 678, 45, 87, 882, 927]"
      ]
     },
     "execution_count": 50,
     "metadata": {},
     "output_type": "execute_result"
    }
   ],
   "source": [
    "l6"
   ]
  },
  {
   "cell_type": "code",
   "execution_count": 52,
   "id": "87165288-55f6-4ec5-99ff-cc516ee4e158",
   "metadata": {},
   "outputs": [
    {
     "data": {
      "text/plain": [
       "678"
      ]
     },
     "execution_count": 52,
     "metadata": {},
     "output_type": "execute_result"
    }
   ],
   "source": [
    "l6[-5]\n"
   ]
  },
  {
   "cell_type": "code",
   "execution_count": 54,
   "id": "7cb11f23-107b-4f89-80e6-c48e7120de0d",
   "metadata": {},
   "outputs": [
    {
     "data": {
      "text/plain": [
       "[43, 567, 78, 872]"
      ]
     },
     "execution_count": 54,
     "metadata": {},
     "output_type": "execute_result"
    }
   ],
   "source": [
    "l6[2:6]"
   ]
  },
  {
   "cell_type": "code",
   "execution_count": 56,
   "id": "032c5948-1e1f-4f12-b74d-296efb282cba",
   "metadata": {},
   "outputs": [
    {
     "data": {
      "text/plain": [
       "[567, 78, 872, 234]"
      ]
     },
     "execution_count": 56,
     "metadata": {},
     "output_type": "execute_result"
    }
   ],
   "source": [
    "l6[3:7]"
   ]
  },
  {
   "cell_type": "markdown",
   "id": "31283527-5e37-4bd6-b8b5-698548cac5ec",
   "metadata": {},
   "source": [
    "# Boolean "
   ]
  },
  {
   "cell_type": "code",
   "execution_count": 61,
   "id": "588f2852-818c-4c5b-8e4f-4d5b875c9020",
   "metadata": {},
   "outputs": [
    {
     "data": {
      "text/plain": [
       "True"
      ]
     },
     "execution_count": 61,
     "metadata": {},
     "output_type": "execute_result"
    }
   ],
   "source": [
    "3 == 3"
   ]
  },
  {
   "cell_type": "code",
   "execution_count": 63,
   "id": "0a0bc3b0-64c6-417a-917d-f9304cc2a9b8",
   "metadata": {},
   "outputs": [
    {
     "data": {
      "text/plain": [
       "False"
      ]
     },
     "execution_count": 63,
     "metadata": {},
     "output_type": "execute_result"
    }
   ],
   "source": [
    "3<2"
   ]
  },
  {
   "cell_type": "code",
   "execution_count": 70,
   "id": "cee4dbe3-4bc0-407e-b63b-3e7273032a33",
   "metadata": {
    "scrolled": true
   },
   "outputs": [],
   "source": [
    "a = True\n",
    "b = False"
   ]
  },
  {
   "cell_type": "code",
   "execution_count": 72,
   "id": "bbe4f525-23cc-4a20-bb1a-30dab3980cbe",
   "metadata": {},
   "outputs": [
    {
     "name": "stdout",
     "output_type": "stream",
     "text": [
      "False\n"
     ]
    }
   ],
   "source": [
    "print(a and b) "
   ]
  },
  {
   "cell_type": "code",
   "execution_count": 74,
   "id": "5a78c402-c341-4de7-9eba-738ecbed8c93",
   "metadata": {},
   "outputs": [
    {
     "name": "stdout",
     "output_type": "stream",
     "text": [
      "True\n"
     ]
    }
   ],
   "source": [
    "print(a or b)"
   ]
  },
  {
   "cell_type": "code",
   "execution_count": 76,
   "id": "19c826d4-b241-4753-a4a9-fd98db1c7e3b",
   "metadata": {},
   "outputs": [
    {
     "name": "stdout",
     "output_type": "stream",
     "text": [
      "False\n"
     ]
    }
   ],
   "source": [
    "print(not a) "
   ]
  },
  {
   "cell_type": "markdown",
   "id": "8966775a-2606-4ceb-8fbd-fd7c5403b6a8",
   "metadata": {},
   "source": [
    "# int"
   ]
  },
  {
   "cell_type": "code",
   "execution_count": 79,
   "id": "0e7b149e-1962-4161-acea-3fabaa635b04",
   "metadata": {},
   "outputs": [],
   "source": [
    "a = 10\n",
    "b = -5\n",
    "c = 0"
   ]
  },
  {
   "cell_type": "code",
   "execution_count": 81,
   "id": "2303d6f1-9a2e-450c-b3f5-eb06314026cc",
   "metadata": {},
   "outputs": [
    {
     "data": {
      "text/plain": [
       "10"
      ]
     },
     "execution_count": 81,
     "metadata": {},
     "output_type": "execute_result"
    }
   ],
   "source": [
    "a"
   ]
  },
  {
   "cell_type": "code",
   "execution_count": 83,
   "id": "e4d31f2a-13ba-423b-be30-bdc0285e91bf",
   "metadata": {},
   "outputs": [
    {
     "data": {
      "text/plain": [
       "-5"
      ]
     },
     "execution_count": 83,
     "metadata": {},
     "output_type": "execute_result"
    }
   ],
   "source": [
    "b"
   ]
  },
  {
   "cell_type": "code",
   "execution_count": 85,
   "id": "7c5dbb22-9f77-401a-939b-7228bddcd833",
   "metadata": {},
   "outputs": [
    {
     "data": {
      "text/plain": [
       "0"
      ]
     },
     "execution_count": 85,
     "metadata": {},
     "output_type": "execute_result"
    }
   ],
   "source": [
    "c"
   ]
  },
  {
   "cell_type": "code",
   "execution_count": 87,
   "id": "1834bc89-ffe4-47dc-acff-26dd87e0cd9c",
   "metadata": {},
   "outputs": [],
   "source": [
    "sum = 10 + 5  "
   ]
  },
  {
   "cell_type": "code",
   "execution_count": 89,
   "id": "5cf7b302-a134-4129-824a-d37459117fa1",
   "metadata": {},
   "outputs": [
    {
     "data": {
      "text/plain": [
       "15"
      ]
     },
     "execution_count": 89,
     "metadata": {},
     "output_type": "execute_result"
    }
   ],
   "source": [
    "sum"
   ]
  },
  {
   "cell_type": "code",
   "execution_count": 91,
   "id": "c6c504e5-9842-40a2-b4f6-bf80c9dc7c1c",
   "metadata": {},
   "outputs": [],
   "source": [
    "difference = 10 - 5 "
   ]
  },
  {
   "cell_type": "code",
   "execution_count": 95,
   "id": "e0b93828-d220-4197-ae47-00317f989210",
   "metadata": {},
   "outputs": [
    {
     "data": {
      "text/plain": [
       "5"
      ]
     },
     "execution_count": 95,
     "metadata": {},
     "output_type": "execute_result"
    }
   ],
   "source": [
    "difference"
   ]
  },
  {
   "cell_type": "code",
   "execution_count": 97,
   "id": "1b2085bf-851d-463e-8d75-cb268df514cf",
   "metadata": {},
   "outputs": [],
   "source": [
    "product = 10 * 5 "
   ]
  },
  {
   "cell_type": "code",
   "execution_count": 99,
   "id": "50b67225-d1f6-44fe-9d0a-5be9c6fe17c2",
   "metadata": {},
   "outputs": [
    {
     "data": {
      "text/plain": [
       "50"
      ]
     },
     "execution_count": 99,
     "metadata": {},
     "output_type": "execute_result"
    }
   ],
   "source": [
    "product"
   ]
  },
  {
   "cell_type": "code",
   "execution_count": 101,
   "id": "b76d7f5b-0501-4ba0-b18d-1cc4a2db166f",
   "metadata": {},
   "outputs": [],
   "source": [
    "division = 10 / 5 "
   ]
  },
  {
   "cell_type": "code",
   "execution_count": 103,
   "id": "d03e2293-9486-4e17-9bec-43f8b0b66f17",
   "metadata": {},
   "outputs": [
    {
     "data": {
      "text/plain": [
       "2.0"
      ]
     },
     "execution_count": 103,
     "metadata": {},
     "output_type": "execute_result"
    }
   ],
   "source": [
    "division"
   ]
  },
  {
   "cell_type": "markdown",
   "id": "6daccdce-1aa3-4069-8af4-52b9562e3337",
   "metadata": {},
   "source": [
    "# str"
   ]
  },
  {
   "cell_type": "code",
   "execution_count": 106,
   "id": "d6cdeebd-85ae-4a2b-811f-da513f6fa9bc",
   "metadata": {},
   "outputs": [],
   "source": [
    "t1 =  \"Ha\" * 3"
   ]
  },
  {
   "cell_type": "code",
   "execution_count": 108,
   "id": "8afe3bfa-e339-4e49-9b3f-3485524ae8de",
   "metadata": {},
   "outputs": [
    {
     "data": {
      "text/plain": [
       "'HaHaHa'"
      ]
     },
     "execution_count": 108,
     "metadata": {},
     "output_type": "execute_result"
    }
   ],
   "source": [
    "t1"
   ]
  },
  {
   "cell_type": "code",
   "execution_count": 110,
   "id": "1f6e2dd1-7e38-431a-9fdb-89e2ee8ccbcb",
   "metadata": {},
   "outputs": [],
   "source": [
    "t2 = len['greeting']"
   ]
  },
  {
   "cell_type": "code",
   "execution_count": 116,
   "id": "36a1e369-b1d1-4665-bb19-d2bb148a96ca",
   "metadata": {},
   "outputs": [
    {
     "data": {
      "text/plain": [
       "8"
      ]
     },
     "execution_count": 116,
     "metadata": {},
     "output_type": "execute_result"
    }
   ],
   "source": [
    "len(t2)"
   ]
  },
  {
   "cell_type": "code",
   "execution_count": 118,
   "id": "acc3810e-c0ac-40f8-b81c-a991909be30c",
   "metadata": {},
   "outputs": [],
   "source": []
  },
  {
   "cell_type": "markdown",
   "id": "aedb28b5-770d-4731-a2d7-7579c964c0b0",
   "metadata": {},
   "source": [
    "t3.replace('hello','hi')"
   ]
  },
  {
   "cell_type": "code",
   "execution_count": 123,
   "id": "711033b1-97f2-4dac-8f52-884ac2d645cd",
   "metadata": {},
   "outputs": [],
   "source": [
    "t3 = 'hello word'"
   ]
  },
  {
   "cell_type": "code",
   "execution_count": 125,
   "id": "75bbc10f-0128-4388-a49f-059815b8ad09",
   "metadata": {},
   "outputs": [
    {
     "data": {
      "text/plain": [
       "'hi word'"
      ]
     },
     "execution_count": 125,
     "metadata": {},
     "output_type": "execute_result"
    }
   ],
   "source": [
    "t3.replace('hello' , 'hi')"
   ]
  },
  {
   "cell_type": "code",
   "execution_count": 127,
   "id": "cf13934b-27a5-4d3e-9aed-9cb2c2822e33",
   "metadata": {},
   "outputs": [],
   "source": [
    "t4 = 'hello word'"
   ]
  },
  {
   "cell_type": "code",
   "execution_count": 135,
   "id": "f8a5d816-60cc-4735-849a-db0b0f6788b5",
   "metadata": {},
   "outputs": [
    {
     "data": {
      "text/plain": [
       "'HELLO WORD'"
      ]
     },
     "execution_count": 135,
     "metadata": {},
     "output_type": "execute_result"
    }
   ],
   "source": [
    "t4.upper()"
   ]
  },
  {
   "cell_type": "code",
   "execution_count": 137,
   "id": "7b2b2969-d1b8-40aa-8d35-eeaad67784de",
   "metadata": {},
   "outputs": [],
   "source": [
    "t5 = 'hello word'"
   ]
  },
  {
   "cell_type": "code",
   "execution_count": 147,
   "id": "d6c0ca8c-2ae3-4ae9-90b4-4ada787dbc74",
   "metadata": {},
   "outputs": [
    {
     "data": {
      "text/plain": [
       "1"
      ]
     },
     "execution_count": 147,
     "metadata": {},
     "output_type": "execute_result"
    }
   ],
   "source": [
    "t5.count('hello word')"
   ]
  },
  {
   "cell_type": "code",
   "execution_count": null,
   "id": "53157068-6aa8-4432-849e-f1c37d5850f0",
   "metadata": {},
   "outputs": [],
   "source": []
  }
 ],
 "metadata": {
  "kernelspec": {
   "display_name": "Python 3 (ipykernel)",
   "language": "python",
   "name": "python3"
  },
  "language_info": {
   "codemirror_mode": {
    "name": "ipython",
    "version": 3
   },
   "file_extension": ".py",
   "mimetype": "text/x-python",
   "name": "python",
   "nbconvert_exporter": "python",
   "pygments_lexer": "ipython3",
   "version": "3.12.4"
  }
 },
 "nbformat": 4,
 "nbformat_minor": 5
}
